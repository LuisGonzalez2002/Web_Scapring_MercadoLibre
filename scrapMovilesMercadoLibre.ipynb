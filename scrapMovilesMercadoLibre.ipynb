{
 "cells": [
  {
   "cell_type": "code",
   "execution_count": 13,
   "id": "cdbe104f-8181-4bed-af55-f2a527f6fc75",
   "metadata": {},
   "outputs": [],
   "source": [
    "# Importing all needed libraries\n",
    "import time\n",
    "import pandas as pd\n",
    "from selenium import webdriver\n",
    "from selenium.webdriver.common.by import By\n",
    "from selenium.common.exceptions import NoSuchElementException, TimeoutException\n",
    "from selenium.webdriver.support.ui import WebDriverWait\n",
    "from selenium.webdriver.support import expected_conditions as EC\n"
   ]
  },
  {
   "cell_type": "code",
   "execution_count": 14,
   "id": "0dca31a0-2cd8-4a4c-b668-b31be6622fee",
   "metadata": {},
   "outputs": [],
   "source": [
    "# Configurar el driver de Selenium\n",
    "driver = webdriver.Chrome()\n",
    "WAIT_TIME = 10\n",
    "driver.wait = WebDriverWait(driver, WAIT_TIME)"
   ]
  },
  {
   "cell_type": "code",
   "execution_count": 15,
   "id": "b2c1d401-e37b-4cfb-9039-e457ab6df329",
   "metadata": {},
   "outputs": [],
   "source": [
    "# Función para scrapear los datos de una página\n",
    "def scrape_page():\n",
    "    names = []\n",
    "    prices = []\n",
    "    ratings = []\n",
    "    \n",
    "    try:\n",
    "        # Encontrar todos los elementos <li> con productos\n",
    "        items = driver.find_elements(By.CSS_SELECTOR, 'li.ui-search-layout__item.shops__layout-item')\n",
    "\n",
    "        # Iterar sobre cada producto encontrado\n",
    "        for item in items:\n",
    "            # Verificar si existe un pie de página con la clase 'poly-footer' y dentro de él, un elemento con la clase 'poly-component__ads-promotions'\n",
    "            try:\n",
    "                promotion_element = item.find_element(By.CSS_SELECTOR, '.poly-footer .poly-component__ads-promotions')\n",
    "                continue  # Saltamos este producto si es promocionado\n",
    "            except NoSuchElementException:\n",
    "                pass  # No es un producto promocionado\n",
    "\n",
    "            # Extraer el nombre del producto\n",
    "            try:\n",
    "                name_element = item.find_element(By.CSS_SELECTOR, '.poly-box.poly-component__title')\n",
    "                names.append(name_element.text)\n",
    "            except NoSuchElementException:\n",
    "                names.append('N/A')  # Si no encuentra el nombre, se coloca 'N/A'\n",
    "\n",
    "            # Extraer el precio del producto\n",
    "            try:\n",
    "                price_element = item.find_element(By.CSS_SELECTOR, '.andes-money-amount__fraction')\n",
    "                prices.append(price_element.text)\n",
    "            except NoSuchElementException:\n",
    "                prices.append('N/A')  # Si no encuentra el precio, se coloca 'N/A'\n",
    "\n",
    "            # Extraer la calificación del producto\n",
    "            try:\n",
    "                rating_element = item.find_element(By.CSS_SELECTOR, '.poly-reviews__rating')\n",
    "                ratings.append(rating_element.text)\n",
    "            except NoSuchElementException:\n",
    "                ratings.append('N/A')  # Si no encuentra la calificación, se coloca 'N/A'\n",
    "\n",
    "    except NoSuchElementException:\n",
    "        print(\"No se encontraron productos en la página.\")\n",
    "    \n",
    "    return names, prices, ratings"
   ]
  },
  {
   "cell_type": "code",
   "execution_count": 16,
   "id": "29273a3e-d34d-412d-8890-d95b2ffe07d5",
   "metadata": {},
   "outputs": [],
   "source": [
    "def go_to_next_page():\n",
    "    try:\n",
    "        # Espera explícita para asegurarte de que el botón es clicable\n",
    "        next_button = WebDriverWait(driver, 10).until(\n",
    "            EC.element_to_be_clickable((By.CSS_SELECTOR, 'li.andes-pagination__button--next a'))\n",
    "        )\n",
    "        # Hacer clic en el botón\n",
    "        driver.execute_script(\"arguments[0].click();\", next_button)\n",
    "        time.sleep(5)  # Esperar un poco para que la página siguiente cargue\n",
    "    except (NoSuchElementException, TimeoutException):\n",
    "        print(\"Botón 'Siguiente' no encontrado o no interactuable. Fin del scraping.\")\n",
    "        return False\n",
    "    return True"
   ]
  },
  {
   "cell_type": "code",
   "execution_count": 17,
   "id": "a3b9dff9-27e5-4660-80ed-75a07c99d83c",
   "metadata": {},
   "outputs": [],
   "source": [
    "# Abrir el navegador y cargar la URL\n",
    "url = \"https://listado.mercadolibre.com.ar/smartphone#D[A:smartphone]\"\n",
    "driver.get(url)\n",
    "time.sleep(5)  # Esperar a que la página cargue\n"
   ]
  },
  {
   "cell_type": "code",
   "execution_count": 18,
   "id": "92599f7c-cdb4-47e0-8e7d-21c505313131",
   "metadata": {},
   "outputs": [],
   "source": [
    "# Listas para almacenar los datos de todas las páginas\n",
    "all_names = []\n",
    "all_prices = []\n",
    "all_ratings = []"
   ]
  },
  {
   "cell_type": "code",
   "execution_count": 19,
   "id": "f085d6ee-d1e0-4e18-986c-820f02aeb438",
   "metadata": {},
   "outputs": [
    {
     "name": "stdout",
     "output_type": "stream",
     "text": [
      "Scrapeando página 1\n",
      "Scrapeando página 2\n",
      "Scrapeando página 3\n"
     ]
    }
   ],
   "source": [
    "# Ciclo para procesar las primeras 6 páginas\n",
    "for page in range(3):\n",
    "    print(f\"Scrapeando página {page + 1}\")\n",
    "    \n",
    "    # Extraer datos de la página actual\n",
    "    names, prices, ratings = scrape_page()\n",
    "    all_names.extend(names)\n",
    "    all_prices.extend(prices)\n",
    "    all_ratings.extend(ratings)\n",
    "    \n",
    "    # Ir a la siguiente página\n",
    "    if not go_to_next_page():\n",
    "        break"
   ]
  },
  {
   "cell_type": "code",
   "execution_count": 20,
   "id": "89c38104-5d02-4bd4-a089-4ab18f3ffa87",
   "metadata": {},
   "outputs": [],
   "source": [
    "# Crear el DataFrame con los datos extraídos\n",
    "df = pd.DataFrame({\n",
    "    'Name': all_names,\n",
    "    'Price': all_prices,\n",
    "    'Rating': all_ratings\n",
    "})"
   ]
  },
  {
   "cell_type": "code",
   "execution_count": 21,
   "id": "5a2b2187-661d-4741-bbb6-dffb8e14326a",
   "metadata": {},
   "outputs": [
    {
     "name": "stdout",
     "output_type": "stream",
     "text": [
      "                                                  Name    Price Rating\n",
      "0                  TCL 40 SE 128 GB dark gray 4 GB RAM  299.999    4.6\n",
      "1    Tecno Spark 20 Pro Dual SIM 256 GB blanco 8 GB...  549.999    4.6\n",
      "2    Xiaomi POCO Poco X6 Pro 5G Dual SIM 512 GB neg...  849.999    4.8\n",
      "3         Moto G24 Power Dual SIM 256 GB azul 8 GB RAM  273.681    4.6\n",
      "4             Motorola Moto G24 4gb + 128 Gb Ice Green  370.990    4.7\n",
      "..                                                 ...      ...    ...\n",
      "145                    Samsung S20 Fe 128 Gb 6 Ram Nfc  485.000    N/A\n",
      "146                          Smarthphone Samsung S21fe  430.000    N/A\n",
      "147                     Samsung Galaxy S21 Fe 128gb 5g  800.000    N/A\n",
      "148  Lote Celular Smartphone Samsung Gti S4 S3 Gran...    1.992    N/A\n",
      "149                   Smartphone Blackberry Curve 9320   25.000    N/A\n",
      "\n",
      "[150 rows x 3 columns]\n"
     ]
    }
   ],
   "source": [
    "# Mostrar el DataFrame\n",
    "print(df)\n"
   ]
  },
  {
   "cell_type": "code",
   "execution_count": null,
   "id": "11e8b7fc-dd26-43e1-93b6-2c3629fbed2b",
   "metadata": {},
   "outputs": [],
   "source": []
  }
 ],
 "metadata": {
  "kernelspec": {
   "display_name": "Python 3 (ipykernel)",
   "language": "python",
   "name": "python3"
  },
  "language_info": {
   "codemirror_mode": {
    "name": "ipython",
    "version": 3
   },
   "file_extension": ".py",
   "mimetype": "text/x-python",
   "name": "python",
   "nbconvert_exporter": "python",
   "pygments_lexer": "ipython3",
   "version": "3.12.3"
  }
 },
 "nbformat": 4,
 "nbformat_minor": 5
}
